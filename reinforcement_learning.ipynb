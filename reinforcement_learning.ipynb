{
 "cells": [
  {
   "cell_type": "markdown",
   "metadata": {},
   "source": [
    "# Reinforcement learning - an introduction\n",
    "\n",
    "### For whom this notebook is \n",
    "\n",
    "This notebook is for you if you are relatively (or completely) new to reinforcement learning and want to know, how reinforcement learning works on a technical level. It would be quite helpfull, if you already have some experience with: \n",
    "* Neural networks\n",
    "* Pytorch"
   ]
  },
  {
   "cell_type": "markdown",
   "metadata": {},
   "source": [
    "### Overview\n",
    "This notebook shows, how to train a neural network to balance a pole on a cart. For this we are using a \"prefabricated environment\" provided by OpenAI: **The Cart pole environment**. Please have a look here: https://gym.openai.com/envs/CartPole-v1/   "
   ]
  },
  {
   "cell_type": "markdown",
   "metadata": {},
   "source": [
    "### Technical preconditions\n",
    "There are basically two technical preconditions for running this notebook:\n",
    "* `Pytorch` has to be installed (see https://pytorch.org/  for installation notes)\n",
    "* `Gym` has to be installed (see https://gym.openai.com/docs/#installation for installation notes)\n",
    "* Important note: There is no GPU needed for running this code   "
   ]
  },
  {
   "cell_type": "markdown",
   "metadata": {},
   "source": [
    "### Cart pole environment\n",
    "Some basic facts, which you should know about the environment beforehand are the following:\n",
    "\n",
    "* There is information, which you can send to the environment via a function call `step()`:\n",
    "    * An **action** to influence the next state of the environment:\n",
    "        * value 0 => push cart to the left\n",
    "        * value 1 => push cart to the right* \n",
    "* The function call will get you the following status information about the environment:\n",
    "    * An **observation** containing 4 types of information:\n",
    "        * cart position\n",
    "        * cart velocity\n",
    "        * pole angle\n",
    "        * pole velocity at tip\n",
    "    * A **reward** signaling that the fact, that system is still in the process of balancing:\n",
    "        * The value of the reward in the cart pole environment is always 1\n",
    "    * A **done** flag, which signals when the pole has fallen over          \n",
    "\n",
    "\n",
    "If you need more technical information, you will find it here: https://github.com/openai/gym/blob/master/gym/envs/classic_control/cartpole.py\n"
   ]
  },
  {
   "cell_type": "code",
   "execution_count": 1,
   "metadata": {},
   "outputs": [],
   "source": [
    "import gym\n",
    "import numpy as np\n",
    "\n",
    "# establish the cart pole environment\n",
    "env = gym.make('CartPole-v0').unwrapped\n",
    "\n",
    "# increase the maximum number of balancing steps (default would be 200)\n",
    "env._max_episode_steps = 2000\n",
    "\n",
    "# get all the relevant parameters of the environment (in order to define and train the network)\n",
    "n_inputs      = env.observation_space.shape[0] # 4\n",
    "n_outputs     = env.action_space.n             # 2\n",
    "action_space  = np.arange(n_outputs)           # 2"
   ]
  },
  {
   "cell_type": "markdown",
   "metadata": {},
   "source": [
    "### Neural Network \n",
    "The neural `network`, which we will train to predict the next move of the cart can be quite simple. I have choosen a linear network with just one hidden layer."
   ]
  },
  {
   "cell_type": "code",
   "execution_count": 2,
   "metadata": {},
   "outputs": [],
   "source": [
    "import torch\n",
    "from torch import nn\n",
    "\n",
    "# hidden nodes\n",
    "n_hidden = 16\n",
    "\n",
    "# Simple linear network, which we will train to decide the next best step (either move left or right)\n",
    "network = nn.Sequential(\n",
    "    nn.Linear(n_inputs, n_hidden),                 \n",
    "    nn.ReLU(), \n",
    "    nn.Linear(n_hidden, n_outputs),\n",
    "    nn.Softmax(dim=-1))\n",
    "\n",
    "def predict(state):\n",
    "    \"\"\"action prediction function for a given state\n",
    "    \n",
    "    param: state: state of the cart pole environment\n",
    "    return: predicted action\"\"\"\n",
    "    \n",
    "    return network(torch.FloatTensor(state))"
   ]
  },
  {
   "cell_type": "markdown",
   "metadata": {},
   "source": [
    "### Balancing act\n",
    "The next function `balancing_act()` does one single balancing act (= trying to balance the pole as long as possible until it falls over). \n",
    "I have also provided an interactive parameter `render` which will show the balancing process in a separate window (provided by the gym environment). The parameter should be used as follows:\n",
    "* `render=False`\n",
    "    * should not be used during training, because it would slow down training significantly \n",
    "* `render=True`\n",
    "    * can be used after (or before) training, to see how the system behaves (demo mode). Best have a look, when the system has learned to balance some hundred steps.     "
   ]
  },
  {
   "cell_type": "code",
   "execution_count": 3,
   "metadata": {},
   "outputs": [],
   "source": [
    "import time\n",
    "\n",
    "def balancing_act(render=False):\n",
    "    \"\"\"Single balancing act based on the actions predicated by the network\n",
    "    \n",
    "    :param :render Boolean switch for demo mode showing the balancing act optically in a separate window\n",
    "    :return states, rewards and actions of the cartpole environment\"\"\"\n",
    "\n",
    "    # Reset the environment and all associated variables for a new balance act\n",
    "    states  = []            # states - each state consisting of 4 components (position, speed, angle, angle speed)\n",
    "    rewards = []            # rewards - which will always be 1\n",
    "    actions = []            # actions - which will be 0 or 1 (= move to the left or to the right)\n",
    "\n",
    "    # Get initial state from the environment\n",
    "    state_0  = env.reset()    \n",
    "    complete = False\n",
    "    \n",
    "    # Keep on balancing until the pole falls over\n",
    "    while complete == False:                     \n",
    "        \n",
    "        # show balancing \"in slow motion\" in a separate window\n",
    "        if render:\n",
    "            env.render()\n",
    "            time.sleep(0.05)\n",
    "        \n",
    "        # Predict possible actions (= move to the right or move to the left) \n",
    "        action_probs = predict(state_0).detach().numpy() \n",
    "        # Choose the best action with some randomness\n",
    "        action       = np.random.choice(action_space, p=action_probs)         \n",
    "        \n",
    "        # Apply the choosen action\n",
    "        state_1, reward, complete, _ = env.step(action)                        \n",
    "            \n",
    "        states.append(state_0)                                            \n",
    "        rewards.append(reward)\n",
    "        actions.append(action)\n",
    "            \n",
    "        state_0 = state_1       \n",
    "        \n",
    "    return states, rewards, actions      "
   ]
  },
  {
   "attachments": {},
   "cell_type": "markdown",
   "metadata": {},
   "source": [
    "### Reward function\n",
    "The \"reward philosphy\" is basically as follows:\n",
    "* The longer the pole was balanced the higher the \"true rewards\" for the steps should be. (The \"true rewards\" will differ heavily from the rewards coming from the environment.) \n",
    "* The more closer the steps to the \"fallover point\" the more negative the steps are judged.  \n",
    "\n",
    "The factor, which determines \"how much the past is taken into account\" is `gamma`. I have choosen 0.99 here, which should fit for this kind of environment.  \n",
    "The following function `gamma_rewards()` brings that to a mathematical formula, which is best explained by an example, whichs shows how the data are modified by flowing through the code:   \n",
    "![pic1.PNG](pic1.PNG)\n"
   ]
  },
  {
   "cell_type": "code",
   "execution_count": 4,
   "metadata": {},
   "outputs": [],
   "source": [
    "# reward degrease factor\n",
    "gamma=0.99\n",
    "\n",
    "def gamma_rewards(rewards):\n",
    "    \"\"\"Transforming simple environment rewards into meaningful rewards\n",
    "    \n",
    "    param: rewards: List of rewards from the environment (always value 1)\n",
    "    return: List of rated rewards (with negative rating at the end)\"\"\"\n",
    "    \n",
    "    # Apply gamma again and again throughout the array\n",
    "    r = np.array([gamma**i * rewards[i] for i in range(len(rewards))])\n",
    "\n",
    "    # Reverse the array direction for cumulative sum and then revert it back to the original order\n",
    "    r = r[::-1].cumsum()[::-1]  \n",
    "    \n",
    "    # create both positive and negative rewards\n",
    "    return r - r.mean()"
   ]
  },
  {
   "attachments": {},
   "cell_type": "markdown",
   "metadata": {},
   "source": [
    "### Optimization\n",
    "For optimization we are using an Adam optimizer.   \n",
    "The function `optimize()` is run for every batch in order to compute the loss. In the line `rewarded_preds = reward_tensor * log_preds_selected_by_action` we are using the rewards, which we computed via the function `gamma_rewards()` before. Here is an example again (building on our first example) for better explanation:    \n",
    "![pic2.PNG](pic2.PNG)\n",
    "As a result of this strategy negative rewarded steps (for a specific state) will be avoided in the future. Positive rewarded steps will be preferred. This is the core of the learning process."
   ]
  },
  {
   "cell_type": "code",
   "execution_count": 5,
   "metadata": {},
   "outputs": [],
   "source": [
    "from torch import optim\n",
    "\n",
    "# learning rate\n",
    "lr = 0.01\n",
    "\n",
    "optimizer = optim.Adam(network.parameters(), lr=lr)\n",
    "\n",
    "def optimize(batch_states, batch_rewards, batch_actions):\n",
    "    \"\"\"Optimization step of the network (weight adjustment)\n",
    "    \n",
    "    param: batch_states:  List of all states during training a batch\n",
    "    param: batch_rewards: List of all rated rewards during training a batch\n",
    "    param: batch_actions: List of all actions happend during training a batch\"\"\"\n",
    "    \n",
    "    optimizer.zero_grad()\n",
    "    \n",
    "    # numpy arrays to tensors \n",
    "    state_tensor  = torch.FloatTensor(batch_states)\n",
    "    reward_tensor = torch.FloatTensor(batch_rewards)\n",
    "    action_tensor = torch.LongTensor(batch_actions)\n",
    "    \n",
    "    # Get the network predictions for the two possible actions based on the given states\n",
    "    # Example for a single entry: [-0.1604, -0.2970] which favors moving to the left \n",
    "    log_preds = torch.log(predict(state_tensor))\n",
    "    \n",
    "    # Next the action determines, which of the two network predictions is choosen\n",
    "    # Example for a single entry: -0.2970 out of [-0.1604, -0.2970] is choosen if action is 1\n",
    "    log_preds_selected_by_action = log_preds[np.arange(len(action_tensor)), action_tensor]\n",
    "\n",
    "    # Next the rewards (which we got from the method gamma_rewards()) are also taken into account\n",
    "    # Example for a single entry: -0.2970 * <reward>\n",
    "    rewarded_preds = reward_tensor * log_preds_selected_by_action\n",
    "    \n",
    "    # get the loss and adapt the weights by backpropagation\n",
    "    loss = -rewarded_preds.mean()\n",
    "    loss.backward()\n",
    "    optimizer.step()"
   ]
  },
  {
   "cell_type": "markdown",
   "metadata": {},
   "source": [
    "### Training - per batch\n",
    "The function `train_batch()` runs `balancing_act()` several times (`batch_size`) and performs the optimization afterwards."
   ]
  },
  {
   "cell_type": "code",
   "execution_count": 6,
   "metadata": {},
   "outputs": [],
   "source": [
    "def train_batch(batch_size=10):\n",
    "    \"\"\"Basic training unit (for one batch) including optimization\n",
    "    \n",
    "    param: batch_size Size of the batch (= number of balance acts)\n",
    "    return: List of balance step counts (for each element of the batch)\"\"\"\n",
    "    \n",
    "    # number of steps for each balancing act \n",
    "    batch_steps = []\n",
    "    \n",
    "    batch_rewards = []\n",
    "    batch_actions = []\n",
    "    batch_states  = []\n",
    "\n",
    "    for ii in range(batch_size):\n",
    "        \n",
    "        # do a single balancing act and get the results\n",
    "        states, rewards, actions = balancing_act()\n",
    "        \n",
    "        # accumulate results of single balancing acts for (batch) optimization\n",
    "        batch_rewards.extend(gamma_rewards(rewards))   \n",
    "        batch_states.extend(states)                               \n",
    "        batch_actions.extend(actions)                             \n",
    "        \n",
    "        batch_steps.extend([sum(rewards)])\n",
    "    \n",
    "    # Optimization run for the batch\n",
    "    optimize(batch_states, batch_rewards, batch_actions)\n",
    "\n",
    "    return batch_steps"
   ]
  },
  {
   "cell_type": "markdown",
   "metadata": {},
   "source": [
    "### Training - overall\n",
    "The function `train_cartpole()` runs `train_batch()` several times (`num_episodes`) and prints out the progress continuously."
   ]
  },
  {
   "cell_type": "code",
   "execution_count": 7,
   "metadata": {},
   "outputs": [],
   "source": [
    "def train_cartpole(num_episodes=50, batch_size=10):\n",
    "    \"\"\"Overall training\n",
    "    \n",
    "    param: num_episodes: Number of episodes (each running a batch)\n",
    "    param: batch_size: Size of a single batch\n",
    "    return: Total ist of balance step counts\"\"\"\n",
    "    \n",
    "    # number of steps for each balancing act\n",
    "    total_steps = []\n",
    "    \n",
    "    for ep in range(num_episodes):   \n",
    "        \n",
    "        # train a batch\n",
    "        batch_steps = train_batch(batch_size=batch_size)\n",
    "        \n",
    "        # print batch statistics\n",
    "        total_steps.extend(batch_steps)\n",
    "        print(\"\\rEp: {} Average balancing duration: {:.2f}\".format(ep + 1, np.mean(total_steps[-10:])), end=\"\")   \n",
    "        \n",
    "    return total_steps        "
   ]
  },
  {
   "cell_type": "markdown",
   "metadata": {},
   "source": [
    "### Let's train the network\n",
    "80 training episodes should be a good value, which fits to our other parameters choosen. Please try."
   ]
  },
  {
   "cell_type": "code",
   "execution_count": 8,
   "metadata": {},
   "outputs": [
    {
     "name": "stdout",
     "output_type": "stream",
     "text": [
      "Ep: 80 Average balancing duration: 483.50"
     ]
    }
   ],
   "source": [
    "total_steps = train_cartpole(num_episodes=80)"
   ]
  },
  {
   "cell_type": "markdown",
   "metadata": {},
   "source": [
    "### Show the progress in balancing\n",
    "The following plot shows the learning curve of our network for each balancing act individually and also a smoothed curve. "
   ]
  },
  {
   "cell_type": "code",
   "execution_count": 9,
   "metadata": {},
   "outputs": [
    {
     "data": {
      "image/png": "[encoded data removed]",
      "text/plain": [
       "<Figure size 864x576 with 1 Axes>"
      ]
     },
     "metadata": {
      "needs_background": "light"
     },
     "output_type": "display_data"
    }
   ],
   "source": [
    "import matplotlib.pyplot as plt\n",
    "%matplotlib inline\n",
    "\n",
    "# smoothed progress curve\n",
    "smoothing_factor = 50\n",
    "smoothed_steps = [np.mean(total_steps[i-smoothing_factor:i+1]) if i > smoothing_factor \n",
    "                    else np.mean(total_steps[:i+1]) for i in range(len(total_steps))]\n",
    "\n",
    "# plot progress\n",
    "plt.figure(figsize=(12,8))\n",
    "plt.plot(total_steps)\n",
    "plt.plot(smoothed_steps)\n",
    "plt.ylabel('Successful balancing steps (= balancing duration)')\n",
    "plt.xlabel('Balancing acts')\n",
    "plt.show()"
   ]
  },
  {
   "cell_type": "markdown",
   "metadata": {},
   "source": [
    "### Show single balancing acts\n",
    "Now let's have a look, what the network has learned so far and if balancing is done quite well. A window should open, which shows the cart balancing the pole \"in slow motion\". Try out as often as you want. "
   ]
  },
  {
   "cell_type": "code",
   "execution_count": 11,
   "metadata": {
    "scrolled": true
   },
   "outputs": [
    {
     "name": "stdout",
     "output_type": "stream",
     "text": [
      "The pole has finally fallen over after 834 successful balancing steps\n"
     ]
    }
   ],
   "source": [
    "# Show one single balancing act\n",
    "states, _, _, = balancing_act(render=True)\n",
    "steps = len(states)\n",
    "print(\"The pole has finally fallen over after {} successful balancing steps\".format(steps))"
   ]
  },
  {
   "cell_type": "code",
   "execution_count": 12,
   "metadata": {},
   "outputs": [],
   "source": [
    "# close the window if not needed any longer (and especially before making a new environment)\n",
    "env.close()"
   ]
  }
 ],
 "metadata": {
  "kernelspec": {
   "display_name": "Python [conda env:root] *",
   "language": "python",
   "name": "conda-root-py"
  },
  "language_info": {
   "codemirror_mode": {
    "name": "ipython",
    "version": 3
   },
   "file_extension": ".py",
   "mimetype": "text/x-python",
   "name": "python",
   "nbconvert_exporter": "python",
   "pygments_lexer": "ipython3",
   "version": "3.7.5"
  }
 },
 "nbformat": 4,
 "nbformat_minor": 2
}
